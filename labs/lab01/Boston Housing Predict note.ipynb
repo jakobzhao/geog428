{
 "cells": [
  {
   "cell_type": "markdown",
   "id": "bfa9f6e9-a6ac-4976-ae1e-9051bf82a855",
   "metadata": {},
   "source": [
    "# Boston Housing Data Analysis\n",
    "\n",
    "**Author:** \\\n",
    "**Email:** \\\n",
    "**Points Available:**   \n",
    "\n",
    "\n",
    "---\n",
    "\n",
    "## 🧠 Overview\n",
    "\n",
    "This lab guides you through a critical exploration of housing data using statistical modeling and machine learning. Drawing on real-world data from the **Boston Housing dataset**, this project walks you through how to:\n",
    "\n",
    "- Read and preprocess structured real estate data  \n",
    "- Visualize key features such as room count, location, and pollution levels  \n",
    "- Build and evaluate predictive models  \n",
    "- Reflect on what factors most significantly impact housing prices  \n",
    "\n",
    "The goal is not only to build a predictive model, but to **understand what the model tells us—and fails to tell us—about urban inequality**.\n"
   ]
  },
  {
   "cell_type": "markdown",
   "id": "8f3ba041-3ab6-4911-b075-d06c27f4c4ff",
   "metadata": {},
   "source": [
    "---\n",
    "\n",
    "## 🎯 You Will:\n",
    "\n",
    "- Load and clean the Boston Housing dataset using `pandas`  \n",
    "- Visualize relationships between features using `matplotlib` and `seaborn`  \n",
    "- Fit and evaluate models (e.g., Linear Regression)  \n",
    "- Interpret results critically in the context of urban planning and social equity  \n",
    "\n",
    "---\n",
    "\n",
    "## ❓ Guiding Question\n",
    "\n",
    "**What do statistical models teach us about urban inequality, and what do they leave out?**  \n",
    "This lab encourages you to consider the limits of statistical inference in capturing cultural, emotional, and policy-driven aspects of urban geography.\n"
   ]
  },
  {
   "cell_type": "markdown",
   "id": "0ac9bd10-301e-4a9e-9c5f-39ae3bee46f7",
   "metadata": {},
   "source": [
    "---\n",
    "\n",
    "## 🔄 Step-by-Step Instructions\n",
    "\n",
    "### 1. Load and Explore Data\n",
    "\n",
    "The dataset contains **506 observations** with **14 attributes**, including:\n",
    "\n",
    "- `CRIM`: Crime rate per capita  \n",
    "- `RM`: Average number of rooms per dwelling  \n",
    "- `DIS`: Distance to employment centers  \n",
    "- `RAD`: Accessibility to highways  \n",
    "- `MEDV`: Median value of owner-occupied homes (target)  \n",
    "\n",
    "---\n",
    "\n",
    "### 2. Clean and Preprocess\n",
    "\n",
    "Ensure the dataset is:\n",
    "\n",
    "- Free of missing values  \n",
    "- Appropriately typed and scaled  \n",
    "- Checked for skewness, outliers, and variable correlation  \n"
   ]
  },
  {
   "cell_type": "markdown",
   "id": "01aa488d-5eef-4e1a-8059-a7d71a47b573",
   "metadata": {},
   "source": [
    "---\n",
    "\n",
    "### 3. Visualize\n",
    "\n",
    "Use:\n",
    "\n",
    "- **Correlation heatmaps** to explore variable strength  \n",
    "- **Scatter plots** like `RM vs MEDV` and `LSTAT vs MEDV`  \n",
    "- **Distribution plots** to explore data spread and outliers  \n",
    "\n",
    "---\n",
    "\n",
    "### 4. Model and Predict\n",
    "\n",
    "Fit regression models and evaluate with:\n",
    "\n",
    "- **Mean Squared Error (MSE)**  \n",
    "- **Cross-validation scores**  \n",
    "\n",
    "Discuss:\n",
    "\n",
    "- Which features are the strongest predictors?  \n",
    "- Where does the model perform poorly, and why?\n"
   ]
  },
  {
   "cell_type": "markdown",
   "id": "0f39b358-1423-468c-9c47-1fcf0d469bed",
   "metadata": {},
   "source": [
    "---\n",
    "\n",
    "### 5. Reflect\n",
    "\n",
    "Answer the following:\n",
    "\n",
    "- What trends were accurately captured?  \n",
    "- Were there features the model over- or under-emphasized?  \n",
    "- Did any results surprise you?  \n",
    "- What structural inequalities are suggested by the data?\n",
    "\n",
    "---\n",
    "\n",
    "## 🌍 Optional Extension: Storymap Concept\n",
    "\n",
    "Inspired by **LLM Place** and **data-classification**, consider creating a **counter-map** or interactive story visualization:\n",
    "\n",
    "- Map areas with low model accuracy  \n",
    "- Layer in redlining, eviction, or pollution data  \n",
    "- Ask: *Where is the model \"blind\"?*\n"
   ]
  },
  {
   "cell_type": "markdown",
   "id": "b144c20c-6d1d-447d-a3c3-8834dd912dea",
   "metadata": {},
   "source": [
    "---\n",
    "\n",
    "## 📦 Deliverables\n",
    "\n",
    "Submit:\n",
    "\n",
    "1. ✅ A cleaned and annotated `.ipynb` notebook  \n",
    "2. 📊 At least 2–3 key visualizations (scatter plot, heatmap, etc.)  \n",
    "3. ✍ A 300–500 word written reflection that addresses:\n",
    "\n",
    "   - What were the top 2–3 price predictors?  \n",
    "   - Were there surprising findings?  \n",
    "   - What broader urban or societal implications can we draw?\n",
    "\n",
    "---\n",
    "\n",
    "## 📝 Submission Notes\n",
    "\n",
    "- Submit everything on **Canvas** unless stated otherwise.  \n",
    "- A **10% penalty** will be deducted for each day of late submission.  \n",
    "- Extensions are available for documented reasons (medical, academic, religious, etc.). Email your instructor **before the deadline** if possible.  \n",
    "- There will be **no make-up** unless under exceptional, approved circumstances.  \n"
   ]
  }
 ],
 "metadata": {
  "kernelspec": {
   "display_name": "Python 3 (ipykernel)",
   "language": "python",
   "name": "python3"
  },
  "language_info": {
   "codemirror_mode": {
    "name": "ipython",
    "version": 3
   },
   "file_extension": ".py",
   "mimetype": "text/x-python",
   "name": "python",
   "nbconvert_exporter": "python",
   "pygments_lexer": "ipython3",
   "version": "3.12.10"
  }
 },
 "nbformat": 4,
 "nbformat_minor": 5
}
