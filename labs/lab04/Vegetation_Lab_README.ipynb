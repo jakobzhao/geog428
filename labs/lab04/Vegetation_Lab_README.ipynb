{
  "cells": [
    {
      "cell_type": "markdown",
      "id": "a1f9764f",
      "metadata": {
        "id": "a1f9764f"
      },
      "source": [
        "\n",
        "# 🌿 Vegetation Detection, Segmentation, and Mapping using SAM & Geospatial Analysis  \n",
        "**Author**:  | **Points Available**:   \n"
      ]
    },
    {
      "cell_type": "markdown",
      "id": "08eda5a8",
      "metadata": {
        "id": "08eda5a8"
      },
      "source": [
        "\n",
        "## 🧭 Lab Overview\n",
        "\n",
        "This lab guides you through the application of the **Segment Anything Model (SAM)** to detect and map **vegetation features** such as tree canopy or individual trees. You will take real-world images (screenshots from Google Images), apply machine learning to segment the vegetation, and then analyze it using geospatial tools.\n",
        "\n",
        "Drawing inspiration from previous labs such as *Sense of Place with LLMs* and *Counter-Mapping Classification*, this lab explores the role of AI in visualizing the environment and reflecting on what becomes visible—or invisible—through automated classification.\n",
        "\n",
        "The guiding question for this lab is:\n",
        "\n",
        "> 🌱 **How do machine vision and classification methods shape our understanding of urban nature and environmental narratives?**\n"
      ]
    },
    {
      "cell_type": "markdown",
      "id": "c532724c",
      "metadata": {
        "id": "c532724c"
      },
      "source": [
        "\n",
        "## 🎯 Learning Objectives\n",
        "\n",
        "You will:\n",
        "\n",
        "- Use SAM (Segment Anything Model) to segment vegetation in real-world screenshots\n",
        "- Convert segmentation masks into geo-compatible polygon formats\n",
        "- Estimate tree canopy or trunk **area** using spatial or pixel-based methods\n",
        "- Reflect on how classification and detection shape environmental storytelling\n",
        "- Critically assess what SAM “sees” and what it might miss\n"
      ]
    },
    {
      "cell_type": "markdown",
      "id": "1bb5f02d",
      "metadata": {
        "id": "1bb5f02d"
      },
      "source": [
        "\n",
        "## 🧩 Lab Workflow\n",
        "\n",
        "### Part 1: Prepare and Segment\n",
        "- Search for aerial imagery like “urban park” or “tree canopy” on Google Images\n",
        "- Take a screenshot (JPEG or PNG)\n",
        "- Upload your image to the notebook environment\n",
        "- Use SAM to segment vegetation features from your screenshot\n",
        "\n",
        "### Part 2: Convert and Analyze\n",
        "- Convert the SAM output into a polygon using `shapely`\n",
        "- Estimate vegetation area from pixels or polygons\n",
        "- Visualize it using `matplotlib`, `folium`, or `leafmap`\n",
        "\n",
        "### Part 3: Reflect and Reframe\n",
        "- What aspects of “nature” become visible under this model?\n",
        "- What types of vegetation or environments are omitted or misrepresented?\n",
        "- Create a narrative explanation or counter-map centered on marginalized green space (e.g., street trees, overlooked parkways, or micro-ecosystems)\n",
        "\n"
      ]
    },
    {
      "cell_type": "markdown",
      "id": "1de68a3b",
      "metadata": {
        "id": "1de68a3b"
      },
      "source": [
        "\n",
        "## 📝 Deliverables\n",
        "\n",
        "Submit the following via Canvas:\n",
        "\n",
        "- Your annotated notebook (including your uploaded image, code, and outputs)\n",
        "- An interactive visualization (if created)\n",
        "- A short reflection (300–500 words) addressing:\n",
        "\n",
        "> 1. What type of vegetation did you analyze, and why?  \n",
        "> 2. How did you choose your segmentation input point(s)?  \n",
        "> 3. What surprised you about SAM’s results—what worked or failed?  \n",
        "> 4. How does your analysis help rethink what counts as nature or green infrastructure?  \n",
        "> 5. How would you present this to city planners, activists, or schools?\n"
      ]
    },
    {
      "cell_type": "markdown",
      "id": "aedf3f8f",
      "metadata": {
        "id": "aedf3f8f"
      },
      "source": [
        "\n",
        "## ⚠️ Notes and Policies\n",
        "\n",
        "- You are encouraged to creatively use AI (e.g., ChatGPT) to help with coding, visualization, and interpretation—but be critical.\n",
        "- Your map doesn’t need to be perfect. It should provoke **insight, reflection, and conversation**.\n",
        "- As with all labs, assignments should be submitted by the due date. Late work will incur a 10% deduction per day.\n",
        "- If you anticipate a delay, notify your instructor in advance to avoid penalty.\n",
        "- There will be **no make-up labs** unless you have a documented reason (medical, athletic, religious, etc.).\n",
        "\n",
        "Let’s explore how machines see the green world—and what stories they miss. 🌲\n"
      ]
    }
  ],
  "metadata": {
    "language": "python",
    "colab": {
      "provenance": []
    }
  },
  "nbformat": 4,
  "nbformat_minor": 5
}